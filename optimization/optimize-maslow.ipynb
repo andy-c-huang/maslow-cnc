{
 "cells": [
  {
   "cell_type": "code",
   "execution_count": 27,
   "metadata": {},
   "outputs": [],
   "source": [
    "# requirements:\n",
    "#!sudo apt-get install glpk-utils\n",
    "#!pip3 install pyomo"
   ]
  },
  {
   "cell_type": "code",
   "execution_count": 28,
   "metadata": {},
   "outputs": [
    {
     "name": "stdout",
     "output_type": "stream",
     "text": [
      "from pyomo.environ import *\r\n",
      "infinity = float('inf')\r\n",
      "\r\n",
      "model = AbstractModel()\r\n",
      "\r\n",
      "# Foods\r\n",
      "model.F = Set()\r\n",
      "# Nutrients\r\n",
      "model.N = Set()\r\n",
      "\r\n",
      "# Cost of each food\r\n",
      "model.c    = Param(model.F, within=PositiveReals)\r\n",
      "# Amount of nutrient in each food\r\n",
      "model.a    = Param(model.F, model.N, within=NonNegativeReals)\r\n",
      "# Lower and upper bound on each nutrient\r\n",
      "model.Nmin = Param(model.N, within=NonNegativeReals, default=0.0)\r\n",
      "model.Nmax = Param(model.N, within=NonNegativeReals, default=infinity)\r\n",
      "# Volume per serving of food\r\n",
      "model.V    = Param(model.F, within=PositiveReals)\r\n",
      "# Maximum volume of food consumed\r\n",
      "model.Vmax = Param(within=PositiveReals)\r\n",
      "\r\n",
      "# Number of servings consumed of each food\r\n",
      "model.x = Var(model.F, within=NonNegativeIntegers)\r\n",
      "\r\n",
      "# Minimize the cost of food that is consumed\r\n",
      "def cost_rule(model):\r\n",
      "    return sum(model.c[i]*model.x[i] for i in model.F)\r\n",
      "model.cost = Objective(rule=cost_rule)\r\n",
      "\r\n",
      "# Limit nutrient consumption for each nutrient\r\n",
      "def nutrient_rule(model, j):\r\n",
      "    value = sum(model.a[i,j]*model.x[i] for i in model.F)\r\n",
      "    return model.Nmin[j] <= value <= model.Nmax[j]\r\n",
      "model.nutrient_limit = Constraint(model.N, rule=nutrient_rule)\r\n",
      "\r\n",
      "# Limit the volume of food consumed\r\n",
      "def volume_rule(model):\r\n",
      "    return sum(model.V[i]*model.x[i] for i in model.F) <= model.Vmax\r\n",
      "model.volume = Constraint(rule=volume_rule)\r\n"
     ]
    }
   ],
   "source": [
    "# display the contents of the maslow pyomo model \n",
    "!cat ./maslow-model.py"
   ]
  },
  {
   "cell_type": "code",
   "execution_count": 29,
   "metadata": {},
   "outputs": [
    {
     "name": "stdout",
     "output_type": "stream",
     "text": [
      "# maslow-parameters.dat AMPL data format\r\n",
      "\r\n",
      "param:  F:                          c     V  :=\r\n",
      "  \"Cheeseburger\"                 1.84   4.0  \r\n",
      "  \"Ham Sandwich\"                 2.19   7.5  \r\n",
      "  \"Hamburger\"                    1.84   3.5  \r\n",
      "  \"Fish Sandwich\"                1.44   5.0  \r\n",
      "  \"Chicken Sandwich\"             2.29   7.3  \r\n",
      "  \"Fries\"                         .77   2.6  \r\n",
      "  \"Sausage Biscuit\"              1.29   4.1  \r\n",
      "  \"Lowfat Milk\"                   .60   8.0 \r\n",
      "  \"Orange Juice\"                  .72  12.0 ;\r\n",
      "\r\n",
      "param Vmax := 75.0;\r\n",
      "\r\n",
      "param:  N:       Nmin   Nmax :=\r\n",
      "        Cal      2000      .\r\n",
      "        Carbo     350    375\r\n",
      "        Protein    55      .\r\n",
      "        VitA      100      .\r\n",
      "        VitC      100      .\r\n",
      "        Calc      100      .\r\n",
      "        Iron      100      . ;\r\n",
      "\r\n",
      "param a:\r\n",
      "                               Cal  Carbo Protein   VitA   VitC  Calc  Iron :=\r\n",
      "  \"Cheeseburger\"               510     34     28     15      6    30    20\r\n",
      "  \"Ham Sandwich\"               370     35     24     15     10    20    20\r\n",
      "  \"Hamburger\"                  500     42     25      6      2    25    20\r\n",
      "  \"Fish Sandwich\"              370     38     14      2      0    15    10\r\n",
      "  \"Chicken Sandwich\"           400     42     31      8     15    15     8\r\n",
      "  \"Fries\"                      220     26      3      0     15     0     2\r\n",
      "  \"Sausage Biscuit\"            345     27     15      4      0    20    15\r\n",
      "  \"Lowfat Milk\"                110     12      9     10      4    30     0\r\n",
      "  \"Orange Juice\"                80     20      1      2    120     2     2 ;"
     ]
    }
   ],
   "source": [
    "# display the contents of the maslow pyomo parameters \n",
    "!cat ./maslow-parameters.dat"
   ]
  },
  {
   "cell_type": "code",
   "execution_count": 30,
   "metadata": {},
   "outputs": [
    {
     "name": "stdout",
     "output_type": "stream",
     "text": [
      "[    0.00] Setting up Pyomo environment\n",
      "[    0.00] Applying Pyomo preprocessing actions\n",
      "[    0.01] Creating model\n",
      "WARNING: DEPRECATED: Chained inequalities are deprecated. Use the inequality()\n",
      "    function to express ranged inequality expressions. (called from\n",
      "    /home/explorien/playground/maslow-cnc/optimization/maslow-model.py:34)\n",
      "WARNING: DEPRECATED: Chained inequalities are deprecated. Use the inequality()\n",
      "    function to express ranged inequality expressions. (called from\n",
      "    /home/explorien/playground/maslow-cnc/optimization/maslow-model.py:34)\n",
      "WARNING: DEPRECATED: Chained inequalities are deprecated. Use the inequality()\n",
      "    function to express ranged inequality expressions. (called from\n",
      "    /home/explorien/playground/maslow-cnc/optimization/maslow-model.py:34)\n",
      "WARNING: DEPRECATED: Chained inequalities are deprecated. Use the inequality()\n",
      "    function to express ranged inequality expressions. (called from\n",
      "    /home/explorien/playground/maslow-cnc/optimization/maslow-model.py:34)\n",
      "WARNING: DEPRECATED: Chained inequalities are deprecated. Use the inequality()\n",
      "    function to express ranged inequality expressions. (called from\n",
      "    /home/explorien/playground/maslow-cnc/optimization/maslow-model.py:34)\n",
      "WARNING: DEPRECATED: Chained inequalities are deprecated. Use the inequality()\n",
      "    function to express ranged inequality expressions. (called from\n",
      "    /home/explorien/playground/maslow-cnc/optimization/maslow-model.py:34)\n",
      "WARNING: DEPRECATED: Chained inequalities are deprecated. Use the inequality()\n",
      "    function to express ranged inequality expressions. (called from\n",
      "    /home/explorien/playground/maslow-cnc/optimization/maslow-model.py:34)\n",
      "[    0.21] Applying solver\n",
      "[    0.30] Processing results\n",
      "    Number of solutions: 1\n",
      "    Solution Information\n",
      "      Gap: 0.0\n",
      "      Status: optimal\n",
      "      Function Value: 15.05\n",
      "    Solver results file: results.yml\n",
      "[    0.31] Applying Pyomo postprocessing actions\n",
      "[    0.31] Pyomo Finished\n"
     ]
    }
   ],
   "source": [
    "# use glpk as the solver in pyomo to solve the maslow-model given the maslow-parameters\n",
    "!pyomo solve --solver=glpk maslow-model.py maslow-parameters.dat"
   ]
  },
  {
   "cell_type": "code",
   "execution_count": 31,
   "metadata": {},
   "outputs": [
    {
     "name": "stdout",
     "output_type": "stream",
     "text": [
      "# ==========================================================\r\n",
      "# = Solver Results                                         =\r\n",
      "# ==========================================================\r\n",
      "# ----------------------------------------------------------\r\n",
      "#   Problem Information\r\n",
      "# ----------------------------------------------------------\r\n",
      "Problem: \r\n",
      "- Name: unknown\r\n",
      "  Lower bound: 15.05\r\n",
      "  Upper bound: 15.05\r\n",
      "  Number of objectives: 1\r\n",
      "  Number of constraints: 10\r\n",
      "  Number of variables: 10\r\n",
      "  Number of nonzeros: 77\r\n",
      "  Sense: minimize\r\n",
      "# ----------------------------------------------------------\r\n",
      "#   Solver Information\r\n",
      "# ----------------------------------------------------------\r\n",
      "Solver: \r\n",
      "- Status: ok\r\n",
      "  Termination condition: optimal\r\n",
      "  Statistics: \r\n",
      "    Branch and bound: \r\n",
      "      Number of bounded subproblems: 23\r\n",
      "      Number of created subproblems: 23\r\n",
      "  Error rc: 0\r\n",
      "  Time: 0.06305837631225586\r\n",
      "# ----------------------------------------------------------\r\n",
      "#   Solution Information\r\n",
      "# ----------------------------------------------------------\r\n",
      "Solution: \r\n",
      "- number of solutions: 1\r\n",
      "  number of solutions displayed: 1\r\n",
      "- Gap: 0.0\r\n",
      "  Status: optimal\r\n",
      "  Message: None\r\n",
      "  Objective:\r\n",
      "    cost:\r\n",
      "      Value: 15.05\r\n",
      "  Variable:\r\n",
      "    x[Cheeseburger]:\r\n",
      "      Value: 4\r\n",
      "    x[Fish Sandwich]:\r\n",
      "      Value: 1\r\n",
      "    x[Fries]:\r\n",
      "      Value: 5\r\n",
      "    x[Lowfat Milk]:\r\n",
      "      Value: 4\r\n",
      "  Constraint: No values\r\n"
     ]
    }
   ],
   "source": [
    "# display the results of the optimization\n",
    "!cat results.yml"
   ]
  },
  {
   "cell_type": "code",
   "execution_count": null,
   "metadata": {},
   "outputs": [],
   "source": [
    "# what are the input parameters? \n",
    "\n",
    "# motor height above workpiece (height)\n",
    "# motor separation (width)\n",
    "# workpiece height\n",
    "# workpiece width\n",
    "\n",
    "motorHeight = \n",
    "motorWidth =\n",
    "workHeight = \n",
    "workWidth = \n"
   ]
  },
  {
   "cell_type": "code",
   "execution_count": null,
   "metadata": {},
   "outputs": [],
   "source": []
  }
 ],
 "metadata": {
  "kernelspec": {
   "display_name": "Python 3",
   "language": "python",
   "name": "python3"
  },
  "language_info": {
   "codemirror_mode": {
    "name": "ipython",
    "version": 3
   },
   "file_extension": ".py",
   "mimetype": "text/x-python",
   "name": "python",
   "nbconvert_exporter": "python",
   "pygments_lexer": "ipython3",
   "version": "3.6.9"
  }
 },
 "nbformat": 4,
 "nbformat_minor": 4
}
