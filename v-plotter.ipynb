{
 "cells": [
  {
   "cell_type": "code",
   "execution_count": 26,
   "metadata": {},
   "outputs": [],
   "source": [
    "# from http://lang.hm/maslow/v-plotter.py\n",
    "# updated to python3\n",
    "# needed to 'pip3 install pillow' to be able to mport Image and ImageDraw"
   ]
  },
  {
   "cell_type": "code",
   "execution_count": 27,
   "metadata": {},
   "outputs": [],
   "source": [
    "#!/usr/bin/env python\n",
    "\n",
    "#created by Bill Ola Rasmussen http://2e5.com/plotter/V/design/\n",
    "# modified by David Lang (david@lang.hm) to add grid and tweak parameters to match Maslow CNC\n",
    "# the modified version is at http://lang.hm/maslow/v-plotter.py\n",
    "\n",
    "import sys\n",
    "from PIL import Image\n",
    "from PIL import ImageDraw\n",
    "from math import sqrt,sin,cos,acos,atan2,degrees,fabs"
   ]
  },
  {
   "cell_type": "code",
   "execution_count": 32,
   "metadata": {},
   "outputs": [],
   "source": [
    "# setup the constants\n",
    "version=1.7\n",
    "outputFile=\"v-plotter-out.png\"\n",
    "# width and height are in pixels\n",
    "# picked these values as creating an image that will fit on a HD screen at full resolution and fit the maslow 4' x 8' workspace\n",
    "width,height=1900,1100\n",
    "# border is in pixels, this is really pretty meaningless, but it was in the original code and you can't get really close to the edges or the motors anyway, so I've left this in place (David Lang)\n",
    "border=32\n",
    "# how low and how high the tension is allowed to be, measured in terms of multiples of the pen/sled weight\n",
    "# for the maslow CNC with a ~10Kg sled and motors that produce 20Kg/cm of torque, these values seem appropriate \n",
    "lo,hi=.25,1.8\n",
    "#max error betwen letting the length grow by 1 and the plotted position\n",
    "# the maslow has 8148 pulses/rev and is trying to achieve 1/64\" accuracy with a 10 tooth type 25 roller chain sprocket.\n",
    "# 50.9 'steps' = 1/64\"\n",
    "max=50.9\n",
    "# spacing in ft to create 1ftx1ft grid\n",
    "# this is the first place where 'real world' dimensions come into play. The units here are arbitrary, they create a grid based on whatever units this spacing is in. So if you put a spacing in ft, the resulting major grids will be in ft. If you put in a dimension in hands, the resulting major grid will be in hands\n",
    "\n",
    "# on the maslow CNC, the current spacing is defined as 9.77 ft\n",
    "spacing=9.77\n",
    "# how many subgrids per grid. For Imperial 12 inches/foot\n",
    "# These subgrids are also arbitrary divisions. If the grid is in ft, then =12 would make subgrids in inches. If the grid is in meters, then 100 would be centimeters\n",
    "subgrid=12\n",
    "#scale computes how many pixles per unit of spacing\n",
    "scale=(width-border)/spacing\n",
    "# define offsets so that the grid is centered on the image and shift it vertically\n",
    "xoff=0.5*((width-border)%int(scale)+border+(int(spacing)%2*scale))\n",
    "# yoffset is manually set so that you can make a major grid line appear at the bottom of the top curve to make it easier to see how a board would fit\n",
    "yoff=-.5*scale\n",
    "# V line end points\n",
    "v1=border/2,border/2\n",
    "v2=width-border/2-1,border/2"
   ]
  },
  {
   "cell_type": "code",
   "execution_count": 33,
   "metadata": {},
   "outputs": [],
   "source": [
    "def cross(draw,p,n):\n",
    "    c=\"#000000\"\n",
    "    draw.line((p[0]-n,p[1]-n,p[0]+n,p[1]+n),c)\n",
    "    draw.line((p[0]+n,p[1]-n,p[0]-n,p[1]+n),c)\n",
    "\n",
    "def drawFixtures(draw):\n",
    "    # border of calculation pixels\n",
    "    draw.rectangle([border-1,border-1,width-border,height-border],\"#FFFFFF\",\"#000000\")\n",
    "    # V line end points\n",
    "    cross(draw,v1,border/4)\n",
    "    cross(draw,v2,border/4)\n",
    "\n",
    "def drawGrid(draw):\n",
    "    c=\"#D0D0D0\"\n",
    "    for x in range(-1 * subgrid, int(width/scale*subgrid)+1):\n",
    "        draw.line((x*scale/subgrid+xoff,0,x*scale/subgrid+xoff,height),c)\n",
    "    for y in range(0, int(height/scale*subgrid)+subgrid):\n",
    "        draw.line((0,yoff+y*scale/subgrid,width,yoff+y*scale/subgrid),c)\n",
    "    c=\"#000000\"\n",
    "    for x in range(0, int(width/scale)+1):\n",
    "        draw.line((x*scale+xoff,0,x*scale+xoff,height),c)\n",
    "    for y in range(0, int(height/scale)+2):\n",
    "        draw.line((0,yoff+y*scale,width,yoff+y*scale),c)\n",
    "    draw.line((width/2,0,width/2,height),\"#FF0000\")\n",
    "\n",
    "def lineTensions(a1,a2):\n",
    "    d=cos(a1)*sin(a2)+sin(a1)*cos(a2)\n",
    "    return cos(a2)/d,cos(a1)/d\n",
    "\n",
    "def tensionOk(p):\n",
    "    # find angles\n",
    "    a1=atan2(p[1]-v1[1],p[0]-v1[0])\n",
    "    a2=atan2(p[1]-v2[1],v2[0]-p[0])\n",
    "    # strings tension check\n",
    "    t1,t2=lineTensions(a1,a2)\n",
    "    return lo<t1<hi and lo<t2<hi\n",
    "\n",
    "def dx(p1,p2):\n",
    "    return sqrt((p1[0]-p2[0])**2+(p1[1]-p2[1])**2);\n",
    "\n",
    "def calcPointB(a,b,c):\n",
    "    alpha=acos((b**2+c**2-a**2)/(2*b*c))\n",
    "    return b*cos(alpha)+v1[0],b*sin(alpha)+v1[1]\n",
    "\n",
    "def resolutionOk(p):\n",
    "    # law of cosines calculation and nomenclature\n",
    "    c=dx(v1,v2)\n",
    "    b=dx(v1,p)\n",
    "    a=dx(v2,p)\n",
    "    # sanity check\n",
    "    err=.00000000001\n",
    "    pc=calcPointB(a,b,c)\n",
    "    #assert p[0]-err<pc[0]<p[0]+err\n",
    "    #assert p[1]-err<pc[1]<p[1]+err\n",
    "    # calculate mapped differences\n",
    "    db=dx(p,calcPointB(a,b+1,c)) # extend left line by 1 unit\n",
    "    da=dx(p,calcPointB(a+1,b,c)) # extend right line by 1 unit\n",
    "    return db<max and da<max # line pull of 1 unit does not move x,y by more than max\n",
    "\n",
    "def calcPixel(draw,p):\n",
    "    t=tensionOk(p)\n",
    "    r=resolutionOk(p)\n",
    "    if not t and not r:\n",
    "        draw.point(p,\"#3A5FBD\")\n",
    "    if not t and r:\n",
    "        draw.point(p,\"#4876FF\")\n",
    "    if t and not r:\n",
    "        draw.point(p,\"#FF7F24\")\n",
    "    # default to background color\n",
    "\n",
    "def drawPixels(draw):\n",
    "    for y in range(border,height-border):\n",
    "        sys.stdout.write('.')\n",
    "        sys.stdout.flush()\n",
    "        for x in range(border,width-border):\n",
    "            calcPixel(draw,(x,y))\n",
    "    sys.stdout.write('\\n')\n",
    "\n",
    "def main():\n",
    "    print(\"V plotter map, version\", version)\n",
    "\n",
    "    image = Image.new(\"RGB\",(width,height),\"#D0D0D0\")\n",
    "    draw = ImageDraw.Draw(image)\n",
    "\n",
    "    drawFixtures(draw)\n",
    "    drawPixels(draw)\n",
    "    drawGrid(draw)\n",
    "\n",
    "    image.save(outputFile,\"PNG\")\n",
    "    print(\"map image written to\", outputFile)\n",
    "    print(\"done.\")"
   ]
  },
  {
   "cell_type": "code",
   "execution_count": 34,
   "metadata": {},
   "outputs": [
    {
     "name": "stdout",
     "output_type": "stream",
     "text": [
      "V plotter map, version 1.7\n",
      "............................................................................................................................................................................................................................................................................................................................................................................................................................................................................................................................................................................................................................................................................................................................................................................................................................................................................................................................................................................................................................................................................\n",
      "map image written to v-plotter-out.png\n",
      "done.\n"
     ]
    }
   ],
   "source": [
    "#if __name__ == \"__main__\":\n",
    "#    main()\n",
    "main()"
   ]
  },
  {
   "cell_type": "code",
   "execution_count": 35,
   "metadata": {},
   "outputs": [
    {
     "data": {
      "image/png": "[encoded data removed]",
      "text/plain": [
       "<IPython.core.display.Image object>"
      ]
     },
     "metadata": {},
     "output_type": "display_data"
    }
   ],
   "source": [
    "import IPython\n",
    "pil_img = IPython.display.Image(filename=outputFile)\n",
    "display(pil_img)"
   ]
  },
  {
   "cell_type": "code",
   "execution_count": null,
   "metadata": {},
   "outputs": [],
   "source": []
  }
 ],
 "metadata": {
  "kernelspec": {
   "display_name": "Python 3",
   "language": "python",
   "name": "python3"
  },
  "language_info": {
   "codemirror_mode": {
    "name": "ipython",
    "version": 3
   },
   "file_extension": ".py",
   "mimetype": "text/x-python",
   "name": "python",
   "nbconvert_exporter": "python",
   "pygments_lexer": "ipython3",
   "version": "3.6.9"
  }
 },
 "nbformat": 4,
 "nbformat_minor": 4
}
